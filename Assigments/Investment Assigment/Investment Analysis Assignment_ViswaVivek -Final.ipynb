{
 "cells": [
  {
   "cell_type": "markdown",
   "metadata": {},
   "source": [
    "## <font color = blue> Importing Libraries </font>"
   ]
  },
  {
   "cell_type": "code",
   "execution_count": 1,
   "metadata": {},
   "outputs": [],
   "source": [
    "import pandas as pd\n",
    "import numpy as np\n",
    "import matplotlib.pyplot as pt\n"
   ]
  },
  {
   "cell_type": "code",
   "execution_count": 2,
   "metadata": {},
   "outputs": [],
   "source": [
    "%matplotlib inline"
   ]
  },
  {
   "cell_type": "markdown",
   "metadata": {},
   "source": [
    "## <font color = blue> Checkpoint 1 and Table 1.1</font>"
   ]
  },
  {
   "cell_type": "markdown",
   "metadata": {},
   "source": [
    "####  <font color = blue>Data Importing from Companies and Rounds2 </font>\n",
    "\n",
    "1. Load Companies data from CSV file or directly from the link.\n",
    "2. Load rounds2 data from CSV."
   ]
  },
  {
   "cell_type": "code",
   "execution_count": 3,
   "metadata": {},
   "outputs": [],
   "source": [
    "companies=pd.read_csv(\"companies.txt\",sep=\"\\t\",\\\n",
    "                      encoding='latin1')\n",
    "\n",
    "rounds2=pd.read_csv('rounds2.csv',encoding='latin1')\n"
   ]
  },
  {
   "cell_type": "markdown",
   "metadata": {},
   "source": [
    "Unique count for Companies after removing non readable data "
   ]
  },
  {
   "cell_type": "code",
   "execution_count": 4,
   "metadata": {},
   "outputs": [
    {
     "data": {
      "text/plain": [
       "66368"
      ]
     },
     "execution_count": 4,
     "metadata": {},
     "output_type": "execute_result"
    }
   ],
   "source": [
    "companies['permalink']=companies['permalink'].str.replace(r'[^\\x00-\\x7F]+', '').str.upper()\n",
    "companies['permalink'].nunique()"
   ]
  },
  {
   "cell_type": "markdown",
   "metadata": {},
   "source": [
    "Unique count for rounds2 file remove non readable data and leading and trailing spaces from companies name from companies name"
   ]
  },
  {
   "cell_type": "code",
   "execution_count": 5,
   "metadata": {},
   "outputs": [
    {
     "data": {
      "text/plain": [
       "66368"
      ]
     },
     "execution_count": 5,
     "metadata": {},
     "output_type": "execute_result"
    }
   ],
   "source": [
    "rounds2['company_permalink']=rounds2['company_permalink'].str.replace(r'[^\\x00-\\x7F]+', '').str.upper()\n",
    "rounds2['company_permalink'].nunique()"
   ]
  },
  {
   "cell_type": "markdown",
   "metadata": {},
   "source": [
    "####  <font color = blue>Creating master_frame</font>\n",
    "\n",
    "Not dropping rows with blank <b>\"raised_amount_usd\" or \"funding_round_type\"</b>"
   ]
  },
  {
   "cell_type": "code",
   "execution_count": 6,
   "metadata": {},
   "outputs": [],
   "source": [
    "#Not dropping rows with blank \"raised_amount_usd or funding_round_type\"\n",
    "master_frame=rounds2.merge(companies,how='inner',right_on='permalink',left_on='company_permalink')\n"
   ]
  },
  {
   "cell_type": "markdown",
   "metadata": {},
   "source": [
    "##### Total count of the master_frame"
   ]
  },
  {
   "cell_type": "code",
   "execution_count": 7,
   "metadata": {},
   "outputs": [
    {
     "data": {
      "text/plain": [
       "(114946, 16)"
      ]
     },
     "execution_count": 7,
     "metadata": {},
     "output_type": "execute_result"
    }
   ],
   "source": [
    "master_frame.shape"
   ]
  },
  {
   "cell_type": "markdown",
   "metadata": {},
   "source": [
    "Cleaning the master_Frame\n",
    "1. Removing all the rows where raised_Amount_usd is blank. Cant fill with mean/mode/median as the min and max difference is huge.\n",
    "2. Removing all the rows where category_list if blank as we cant fill the data with category.\n",
    "3. Removing rows where country_code is blank as filling the data is not possible, filling with highest occurrence of country is not appropriate."
   ]
  },
  {
   "cell_type": "code",
   "execution_count": 8,
   "metadata": {},
   "outputs": [],
   "source": [
    "master_frame=master_frame[master_frame['raised_amount_usd'].notnull()]\n",
    "master_frame=master_frame[master_frame['category_list'].notnull()]\n",
    "master_frame=master_frame[master_frame['country_code'].notnull()]"
   ]
  },
  {
   "cell_type": "markdown",
   "metadata": {},
   "source": [
    "Setting number format to 2 decimal places"
   ]
  },
  {
   "cell_type": "code",
   "execution_count": 9,
   "metadata": {},
   "outputs": [],
   "source": [
    "pd.set_option('display.float_format','{:,.2f}'.format)\n"
   ]
  },
  {
   "cell_type": "markdown",
   "metadata": {},
   "source": [
    "## <font color = blue> Checkpoint 2 and Table 2.1</font>\n",
    "\n",
    "1. Average funding amount of venture type\n",
    "2. Average funding amount of angel type\n",
    "3. Average funding amount of seed type\n",
    "4. Average funding amount of private equity type\n",
    "5. Considering that Spark Funds wants to invest between 5 to 15 million USD per  investment round, which investment type is the most suitable for them?"
   ]
  },
  {
   "cell_type": "code",
   "execution_count": 10,
   "metadata": {},
   "outputs": [
    {
     "data": {
      "text/html": [
       "<div>\n",
       "<style scoped>\n",
       "    .dataframe tbody tr th:only-of-type {\n",
       "        vertical-align: middle;\n",
       "    }\n",
       "\n",
       "    .dataframe tbody tr th {\n",
       "        vertical-align: top;\n",
       "    }\n",
       "\n",
       "    .dataframe thead th {\n",
       "        text-align: right;\n",
       "    }\n",
       "</style>\n",
       "<table border=\"1\" class=\"dataframe\">\n",
       "  <thead>\n",
       "    <tr style=\"text-align: right;\">\n",
       "      <th></th>\n",
       "      <th>funding_round_type</th>\n",
       "      <th>Average_Amount</th>\n",
       "    </tr>\n",
       "  </thead>\n",
       "  <tbody>\n",
       "    <tr>\n",
       "      <th>8</th>\n",
       "      <td>private_equity</td>\n",
       "      <td>73,938,486.28</td>\n",
       "    </tr>\n",
       "    <tr>\n",
       "      <th>13</th>\n",
       "      <td>venture</td>\n",
       "      <td>11,724,222.69</td>\n",
       "    </tr>\n",
       "    <tr>\n",
       "      <th>0</th>\n",
       "      <td>angel</td>\n",
       "      <td>971,573.89</td>\n",
       "    </tr>\n",
       "    <tr>\n",
       "      <th>11</th>\n",
       "      <td>seed</td>\n",
       "      <td>747,793.68</td>\n",
       "    </tr>\n",
       "  </tbody>\n",
       "</table>\n",
       "</div>"
      ],
      "text/plain": [
       "   funding_round_type  Average_Amount\n",
       "8      private_equity   73,938,486.28\n",
       "13            venture   11,724,222.69\n",
       "0               angel      971,573.89\n",
       "11               seed      747,793.68"
      ]
     },
     "execution_count": 10,
     "metadata": {},
     "output_type": "execute_result"
    }
   ],
   "source": [
    "# create rep_value data frame to Average amount of each funding type\n",
    "\n",
    "rep_value=master_frame.groupby('funding_round_type').agg({'raised_amount_usd':'mean'})\n",
    "rep_value.reset_index(inplace=True)\n",
    "rep_value.rename(columns={'raised_amount_usd':'Average_Amount'},inplace=True)\n",
    "\n",
    "rep_value[rep_value.funding_round_type.isin(['venture','angel','private_equity','seed'])]\\\n",
    ".sort_values('Average_Amount',ascending=False)\n",
    "\n"
   ]
  },
  {
   "cell_type": "markdown",
   "metadata": {},
   "source": [
    "## <font color = blue> Checkpoint 3 and Table 3.1</font>\n",
    "\n",
    "1. Top English speaking country\n",
    "2. Second English speaking country\n",
    "3. Third English speaking country\n"
   ]
  },
  {
   "cell_type": "code",
   "execution_count": 11,
   "metadata": {},
   "outputs": [],
   "source": [
    "top9=master_frame.loc[ (master_frame['funding_round_type']== 'venture') &\\\n",
    "                      ~(master_frame['country_code'].isnull())& (master_frame['raised_amount_usd'].notnull()) \n",
    "                      ,\\\n",
    "                      ['country_code','raised_amount_usd']]\\\n",
    "                    .groupby(by='country_code').agg('sum').sort_values('raised_amount_usd',ascending=False).head(9)"
   ]
  },
  {
   "cell_type": "markdown",
   "metadata": {},
   "source": [
    "Creating dataframe for english speaking countries with country codes"
   ]
  },
  {
   "cell_type": "code",
   "execution_count": 12,
   "metadata": {},
   "outputs": [],
   "source": [
    "dic={'COUNTRY':[\"Antigua and Barbuda\",\"Australia\",\"The Bahamas\",\"Barbados\",\"Belize\",\"Botswana\",\"Cameroon\",\"Canada\",\"Dominica\",\"Eritrea\",\"Ethiopia\",\"Fiji\",\"The Gambia\",\"Ghana\",\"Grenada\",\"Guyana\",\"India\",\"Ireland\",\"Jamaica\",\"Kenya\",\"Kiribati\",\"Lesotho\",\"Liberia\",\"Malawi\",\"Malta\",\"Marshall Islands\",\"Mauritius\",\"Federated States of Micronesia\",\"Namibia\",\"Nauru\",\"New Zealand\",\"Nigeria\",\"Pakistan\",\"Palau\",\"Papua New Guinea\",\"Philippines\",\"Rwanda\",\"Saint Kitts and Nevis\",\"Saint Lucia\",\"Saint Vincent and the Grenadines\",\"Samoa\",\"Seychelles\",\"Sierra Leone\",\"Singapore\",\"Solomon Islands\",\"South Africa\",\"South Sudan\",\"Sudan\",\"Swaziland\",\"Tanzania\",\"Tonga\",\"Trinidad and Tobago\",\"Tuvalu\",\"Uganda\",\"United Kingdom\",\"United States\",\"Vanuatu\",\"Zambia\",\"Zimbabwe\"]\\\n",
    "    ,'A3':[\"ATG\",\"AUS\",\"BHS\",\"BRB\",\"BLZ\",\"BWA\",\"CMR\",\"CAN\",\"DMA\",\"ERI\",\"ETH\",\"FJI\",\"GMB\",\"GHA\",\"GRD\",\"GUY\",\"IND\",\"IRL\",\"JAM\",\"KEN\",\"KIR\",\"LSO\",\"LBR\",\"MWI\",\"MLT\",\"MHL\",\"MUS\",\"FSM\",\"NAM\",\"NRU\",\"NZL\",\"NGA\",\"PAK\",\"PLW\",\"PNG\",\"PHL\",\"RWA\",\"KNA\",\"LCA\",\"VCT\",\"WSM\",\"SYC\",\"SLE\",\"SGP\",\"SLB\",\"ZAF\",\"SSD\",\"SDN\",\"SWZ\",\"TZA\",\"TON\",\"TTO\",\"TUV\",\"UGA\",\"GBR\",\"USA\",\"VUT\",\"ZMB\",\"ZWE\"],'Language':[\"English\",\"English\",\"English\",\"English\",\"English\",\"English\",\"English\",\"English\",\"English\",\"English\",\"English\",\"English\",\"English\",\"English\",\"English\",\"English\",\"English\",\"English\",\"English\",\"English\",\"English\",\"English\",\"English\",\"English\",\"English\",\"English\",\"English\",\"English\",\"English\",\"English\",\"English\",\"English\",\"English\",\"English\",\"English\",\"English\",\"English\",\"English\",\"English\",\"English\",\"English\",\"English\",\"English\",\"English\",\"English\",\"English\",\"English\",\"English\",\"English\",\"English\",\"English\",\"English\",\"English\",\"English\",\"English\",\"English\",\"English\",\"English\",\"English\"]}\n",
    "\n",
    "eng_offcal_lang=pd.DataFrame(dic)\n"
   ]
  },
  {
   "cell_type": "code",
   "execution_count": 13,
   "metadata": {},
   "outputs": [
    {
     "data": {
      "text/html": [
       "<div>\n",
       "<style scoped>\n",
       "    .dataframe tbody tr th:only-of-type {\n",
       "        vertical-align: middle;\n",
       "    }\n",
       "\n",
       "    .dataframe tbody tr th {\n",
       "        vertical-align: top;\n",
       "    }\n",
       "\n",
       "    .dataframe thead th {\n",
       "        text-align: right;\n",
       "    }\n",
       "</style>\n",
       "<table border=\"1\" class=\"dataframe\">\n",
       "  <thead>\n",
       "    <tr style=\"text-align: right;\">\n",
       "      <th></th>\n",
       "      <th>raised_amount_usd</th>\n",
       "    </tr>\n",
       "    <tr>\n",
       "      <th>country_code</th>\n",
       "      <th></th>\n",
       "    </tr>\n",
       "  </thead>\n",
       "  <tbody>\n",
       "    <tr>\n",
       "      <th>USA</th>\n",
       "      <td>420,068,029,342.00</td>\n",
       "    </tr>\n",
       "    <tr>\n",
       "      <th>CHN</th>\n",
       "      <td>39,338,918,773.00</td>\n",
       "    </tr>\n",
       "    <tr>\n",
       "      <th>GBR</th>\n",
       "      <td>20,072,813,004.00</td>\n",
       "    </tr>\n",
       "    <tr>\n",
       "      <th>IND</th>\n",
       "      <td>14,261,508,718.00</td>\n",
       "    </tr>\n",
       "    <tr>\n",
       "      <th>CAN</th>\n",
       "      <td>9,482,217,668.00</td>\n",
       "    </tr>\n",
       "    <tr>\n",
       "      <th>FRA</th>\n",
       "      <td>7,226,851,352.00</td>\n",
       "    </tr>\n",
       "    <tr>\n",
       "      <th>ISR</th>\n",
       "      <td>6,854,350,477.00</td>\n",
       "    </tr>\n",
       "    <tr>\n",
       "      <th>DEU</th>\n",
       "      <td>6,306,921,981.00</td>\n",
       "    </tr>\n",
       "    <tr>\n",
       "      <th>JPN</th>\n",
       "      <td>3,167,647,127.00</td>\n",
       "    </tr>\n",
       "  </tbody>\n",
       "</table>\n",
       "</div>"
      ],
      "text/plain": [
       "              raised_amount_usd\n",
       "country_code                   \n",
       "USA          420,068,029,342.00\n",
       "CHN           39,338,918,773.00\n",
       "GBR           20,072,813,004.00\n",
       "IND           14,261,508,718.00\n",
       "CAN            9,482,217,668.00\n",
       "FRA            7,226,851,352.00\n",
       "ISR            6,854,350,477.00\n",
       "DEU            6,306,921,981.00\n",
       "JPN            3,167,647,127.00"
      ]
     },
     "execution_count": 13,
     "metadata": {},
     "output_type": "execute_result"
    }
   ],
   "source": [
    "# top 9 countries based on FT as venrture\n",
    "top9"
   ]
  },
  {
   "cell_type": "markdown",
   "metadata": {},
   "source": [
    "Finding top 3 English speaking countries"
   ]
  },
  {
   "cell_type": "code",
   "execution_count": 14,
   "metadata": {},
   "outputs": [
    {
     "data": {
      "text/html": [
       "<div>\n",
       "<style scoped>\n",
       "    .dataframe tbody tr th:only-of-type {\n",
       "        vertical-align: middle;\n",
       "    }\n",
       "\n",
       "    .dataframe tbody tr th {\n",
       "        vertical-align: top;\n",
       "    }\n",
       "\n",
       "    .dataframe thead th {\n",
       "        text-align: right;\n",
       "    }\n",
       "</style>\n",
       "<table border=\"1\" class=\"dataframe\">\n",
       "  <thead>\n",
       "    <tr style=\"text-align: right;\">\n",
       "      <th></th>\n",
       "      <th>raised_amount_usd</th>\n",
       "      <th>COUNTRY</th>\n",
       "      <th>A3</th>\n",
       "      <th>Language</th>\n",
       "    </tr>\n",
       "  </thead>\n",
       "  <tbody>\n",
       "    <tr>\n",
       "      <th>0</th>\n",
       "      <td>420,068,029,342.00</td>\n",
       "      <td>United States</td>\n",
       "      <td>USA</td>\n",
       "      <td>English</td>\n",
       "    </tr>\n",
       "    <tr>\n",
       "      <th>1</th>\n",
       "      <td>20,072,813,004.00</td>\n",
       "      <td>United Kingdom</td>\n",
       "      <td>GBR</td>\n",
       "      <td>English</td>\n",
       "    </tr>\n",
       "    <tr>\n",
       "      <th>2</th>\n",
       "      <td>14,261,508,718.00</td>\n",
       "      <td>India</td>\n",
       "      <td>IND</td>\n",
       "      <td>English</td>\n",
       "    </tr>\n",
       "  </tbody>\n",
       "</table>\n",
       "</div>"
      ],
      "text/plain": [
       "   raised_amount_usd         COUNTRY   A3 Language\n",
       "0 420,068,029,342.00   United States  USA  English\n",
       "1  20,072,813,004.00  United Kingdom  GBR  English\n",
       "2  14,261,508,718.00           India  IND  English"
      ]
     },
     "execution_count": 14,
     "metadata": {},
     "output_type": "execute_result"
    }
   ],
   "source": [
    "top_english_countries=top9.merge(eng_offcal_lang,left_on='country_code',right_on='A3')\\\n",
    "            .sort_values('raised_amount_usd',ascending=False).head(3)\n",
    "top_english_countries"
   ]
  },
  {
   "cell_type": "markdown",
   "metadata": {},
   "source": [
    "## <font color = blue> Checkpoint 4</font>\n",
    "\n",
    "1. creating primary_sector column in master_frame"
   ]
  },
  {
   "cell_type": "code",
   "execution_count": 15,
   "metadata": {},
   "outputs": [],
   "source": [
    "master_frame['primary_sector']=master_frame['category_list'].str.split('|',1,True).iloc[:,0]"
   ]
  },
  {
   "cell_type": "markdown",
   "metadata": {},
   "source": [
    "Working with mapping file\n",
    "1. Extracting the data in mapping dataframe\n",
    "2. Data cleaning, removing 0's with na from category_list columns\n",
    "3. Unpivoting the datafram using 'melt' function in dataframe. Name sector as 'main_sector' and 0&1 value column as Yes/No\n",
    "4. Create new data frame 'main_sector' and fill it with category and main_sector i.e. values as 1 in Yes/No column of melting data frame.\n",
    "\n"
   ]
  },
  {
   "cell_type": "code",
   "execution_count": 16,
   "metadata": {},
   "outputs": [],
   "source": [
    "mapping=pd.read_csv('mapping.csv',encoding='latin1')\n",
    "\n",
    "mapping['category_list']=mapping['category_list'].str.replace('0','na')\n",
    "melting=mapping.melt(id_vars='category_list',var_name='main_sector',value_name='Yes/No')\n",
    "\n",
    "main_sector=melting.loc[(melting['Yes/No']==1),['category_list','main_sector','Yes/No']]\n",
    "main_sector.head()\n"
   ]
  },
  {
   "cell_type": "markdown",
   "metadata": {},
   "source": [
    "Merging master_frame and main_sector\n",
    "\n",
    "1. convert primary_sector columns of master_frame to upper case.\n",
    "2. convert category_list columns of main_sector to upper case.\n",
    "3. Merger both the dataframes.\n",
    "4. Dropping columns 'category_list_y', which got created during the merging from master_frame"
   ]
  },
  {
   "cell_type": "code",
   "execution_count": 17,
   "metadata": {},
   "outputs": [],
   "source": [
    "master_frame['primary_sector']=master_frame['primary_sector'].str.upper()\n",
    "main_sector['category_list']=main_sector['category_list'].str.upper()\n",
    "master_frame=master_frame.merge(main_sector[['category_list','main_sector']],\\\n",
    "                                          how='inner',left_on='primary_sector',right_on='category_list')\n",
    "\n",
    "master_frame.drop('category_list_y',axis=1,inplace=True)\n",
    "master_frame.rename(columns={'category_list_x':'category_list'},inplace=True)"
   ]
  },
  {
   "cell_type": "markdown",
   "metadata": {},
   "source": [
    "## <font color = blue> Checkpoint 5 and Table 5.1</font>"
   ]
  },
  {
   "cell_type": "markdown",
   "metadata": {},
   "source": [
    "#### <font color=blue >Creating D1, D2 and D3</font>\n",
    "1. Create D1 with filter: country_code=USA , funding_round_type= ventire,category_list as not null, and raised_amount_usd  between 5 million to 15million inclding both boundaries.\n",
    "2. Create D2 with filter: country_code=USA , funding_round_type= ventire,category_list as not null,and raised_amount_usd  between 5 million to 15million inclding both boundaries.\n",
    "3. Create D3 with filter: country_code=USA , funding_round_type= ventire,category_list as not null,and raised_amount_usd  between 5 million to 15million inclding both boundaries."
   ]
  },
  {
   "cell_type": "code",
   "execution_count": 18,
   "metadata": {},
   "outputs": [],
   "source": [
    "#(master_frame['raised_amount_usd'].between(5000000,15000000))& \n",
    "#master_frame.to_csv('wiht primary sector2.csv')\n",
    "D1=master_frame[(master_frame['country_code']== 'USA') & (master_frame['funding_round_type']== 'venture')&\\\n",
    "                (master_frame['raised_amount_usd'].between(5000000,15000000))\\\n",
    "                & (master_frame['category_list'].notnull())]\n",
    "\n",
    "\n",
    "\n",
    "D2=master_frame[(master_frame['country_code']== 'GBR') & (master_frame['funding_round_type']== 'venture')&\\\n",
    "             (master_frame['raised_amount_usd'].between(5000000,15000000))& (master_frame['category_list'].notnull())]\n",
    "\n",
    "\n",
    "\n",
    "D3=master_frame[(master_frame['country_code']== 'IND') & (master_frame['funding_round_type']== 'venture')&\\\n",
    "             (master_frame['raised_amount_usd'].between(5000000,15000000))& master_frame['category_list'].notnull()]\n"
   ]
  },
  {
   "cell_type": "code",
   "execution_count": 19,
   "metadata": {},
   "outputs": [],
   "source": [
    "# Adding total number (or count) of investments for each main sector in a separate column\n",
    "# Adding total amount invested in each main sector in a separate column\n",
    "D1=D1.merge(D1.groupby('main_sector').agg({'main_sector':'count','raised_amount_usd':'sum'})\\\n",
    "            .rename(columns={'main_sector':'total_number','raised_amount_usd':'total amount invested'})\\\n",
    "            .reset_index(),how='inner',left_on='main_sector',right_on='main_sector')\n",
    "\n",
    "D2=D2.merge(D2.groupby('main_sector').agg({'main_sector':'count','raised_amount_usd':'sum'}).\\\n",
    "            rename(columns={'main_sector':'total_number','raised_amount_usd':'total amount invested'})\\\n",
    "            .reset_index(),how='inner',left_on='main_sector',right_on='main_sector')\n",
    "\n",
    "\n",
    "\n",
    "D3=D3.merge(D3.groupby('main_sector').agg({'main_sector':'count','raised_amount_usd':'sum'}).\\\n",
    "            rename(columns={'main_sector':'total_number','raised_amount_usd':'total amount invested'})\\\n",
    "            .reset_index(),how='inner',left_on='main_sector',right_on='main_sector')\n"
   ]
  },
  {
   "cell_type": "markdown",
   "metadata": {},
   "source": [
    "Total number of Investments (count)"
   ]
  },
  {
   "cell_type": "code",
   "execution_count": 20,
   "metadata": {},
   "outputs": [
    {
     "name": "stdout",
     "output_type": "stream",
     "text": [
      "D1: 12063\n",
      "D2: 621\n",
      "D3: 328\n"
     ]
    }
   ],
   "source": [
    "print(\"D1: \"+ str(D1['main_sector'].count()))\n",
    "print(\"D2: \"+ str(D2['main_sector'].count()))\n",
    "print(\"D3: \"+ str(D3['main_sector'].count()))"
   ]
  },
  {
   "cell_type": "markdown",
   "metadata": {},
   "source": [
    "Total amount of investment (USD)"
   ]
  },
  {
   "cell_type": "code",
   "execution_count": 21,
   "metadata": {},
   "outputs": [
    {
     "name": "stdout",
     "output_type": "stream",
     "text": [
      "D1: 107757097294.0\n",
      "D2: 5379078691.0\n",
      "D3: 2949543602.0\n"
     ]
    }
   ],
   "source": [
    "print(\"D1: \" + str(D1['raised_amount_usd'].sum()))\n",
    "print(\"D2: \" + str(D2['raised_amount_usd'].sum()))\n",
    "print(\"D3: \" + str(D3['raised_amount_usd'].sum()))"
   ]
  },
  {
   "cell_type": "markdown",
   "metadata": {},
   "source": [
    "Top **3** Sector name (no. of investment-wise)"
   ]
  },
  {
   "cell_type": "code",
   "execution_count": 22,
   "metadata": {},
   "outputs": [
    {
     "data": {
      "text/html": [
       "<div>\n",
       "<style scoped>\n",
       "    .dataframe tbody tr th:only-of-type {\n",
       "        vertical-align: middle;\n",
       "    }\n",
       "\n",
       "    .dataframe tbody tr th {\n",
       "        vertical-align: top;\n",
       "    }\n",
       "\n",
       "    .dataframe thead th {\n",
       "        text-align: right;\n",
       "    }\n",
       "</style>\n",
       "<table border=\"1\" class=\"dataframe\">\n",
       "  <thead>\n",
       "    <tr style=\"text-align: right;\">\n",
       "      <th></th>\n",
       "      <th>total_number</th>\n",
       "    </tr>\n",
       "    <tr>\n",
       "      <th>main_sector</th>\n",
       "      <th></th>\n",
       "    </tr>\n",
       "  </thead>\n",
       "  <tbody>\n",
       "    <tr>\n",
       "      <th>Others</th>\n",
       "      <td>2950</td>\n",
       "    </tr>\n",
       "    <tr>\n",
       "      <th>Social, Finance, Analytics, Advertising</th>\n",
       "      <td>2714</td>\n",
       "    </tr>\n",
       "    <tr>\n",
       "      <th>Cleantech / Semiconductors</th>\n",
       "      <td>2350</td>\n",
       "    </tr>\n",
       "  </tbody>\n",
       "</table>\n",
       "</div>"
      ],
      "text/plain": [
       "                                         total_number\n",
       "main_sector                                          \n",
       "Others                                           2950\n",
       "Social, Finance, Analytics, Advertising          2714\n",
       "Cleantech / Semiconductors                       2350"
      ]
     },
     "execution_count": 22,
     "metadata": {},
     "output_type": "execute_result"
    }
   ],
   "source": [
    "# Top 3 sectors for D1\n",
    "country_1=D1.groupby('main_sector').agg({'total_number':'max'}).sort_values('total_number',ascending=False).head(3)\n",
    "country_1"
   ]
  },
  {
   "cell_type": "code",
   "execution_count": 23,
   "metadata": {},
   "outputs": [
    {
     "data": {
      "text/html": [
       "<div>\n",
       "<style scoped>\n",
       "    .dataframe tbody tr th:only-of-type {\n",
       "        vertical-align: middle;\n",
       "    }\n",
       "\n",
       "    .dataframe tbody tr th {\n",
       "        vertical-align: top;\n",
       "    }\n",
       "\n",
       "    .dataframe thead th {\n",
       "        text-align: right;\n",
       "    }\n",
       "</style>\n",
       "<table border=\"1\" class=\"dataframe\">\n",
       "  <thead>\n",
       "    <tr style=\"text-align: right;\">\n",
       "      <th></th>\n",
       "      <th>total_number</th>\n",
       "    </tr>\n",
       "    <tr>\n",
       "      <th>main_sector</th>\n",
       "      <th></th>\n",
       "    </tr>\n",
       "  </thead>\n",
       "  <tbody>\n",
       "    <tr>\n",
       "      <th>Others</th>\n",
       "      <td>147</td>\n",
       "    </tr>\n",
       "    <tr>\n",
       "      <th>Social, Finance, Analytics, Advertising</th>\n",
       "      <td>133</td>\n",
       "    </tr>\n",
       "    <tr>\n",
       "      <th>Cleantech / Semiconductors</th>\n",
       "      <td>130</td>\n",
       "    </tr>\n",
       "  </tbody>\n",
       "</table>\n",
       "</div>"
      ],
      "text/plain": [
       "                                         total_number\n",
       "main_sector                                          \n",
       "Others                                            147\n",
       "Social, Finance, Analytics, Advertising           133\n",
       "Cleantech / Semiconductors                        130"
      ]
     },
     "execution_count": 23,
     "metadata": {},
     "output_type": "execute_result"
    }
   ],
   "source": [
    "# Top 3 sectors for D2\n",
    "country_2=D2.groupby('main_sector').agg({'total_number':'max'}).sort_values('total_number',ascending=False).head(3)\n",
    "country_2"
   ]
  },
  {
   "cell_type": "code",
   "execution_count": 24,
   "metadata": {},
   "outputs": [
    {
     "data": {
      "text/html": [
       "<div>\n",
       "<style scoped>\n",
       "    .dataframe tbody tr th:only-of-type {\n",
       "        vertical-align: middle;\n",
       "    }\n",
       "\n",
       "    .dataframe tbody tr th {\n",
       "        vertical-align: top;\n",
       "    }\n",
       "\n",
       "    .dataframe thead th {\n",
       "        text-align: right;\n",
       "    }\n",
       "</style>\n",
       "<table border=\"1\" class=\"dataframe\">\n",
       "  <thead>\n",
       "    <tr style=\"text-align: right;\">\n",
       "      <th></th>\n",
       "      <th>total_number</th>\n",
       "    </tr>\n",
       "    <tr>\n",
       "      <th>main_sector</th>\n",
       "      <th></th>\n",
       "    </tr>\n",
       "  </thead>\n",
       "  <tbody>\n",
       "    <tr>\n",
       "      <th>Others</th>\n",
       "      <td>110</td>\n",
       "    </tr>\n",
       "    <tr>\n",
       "      <th>Social, Finance, Analytics, Advertising</th>\n",
       "      <td>60</td>\n",
       "    </tr>\n",
       "    <tr>\n",
       "      <th>News, Search and Messaging</th>\n",
       "      <td>52</td>\n",
       "    </tr>\n",
       "  </tbody>\n",
       "</table>\n",
       "</div>"
      ],
      "text/plain": [
       "                                         total_number\n",
       "main_sector                                          \n",
       "Others                                            110\n",
       "Social, Finance, Analytics, Advertising            60\n",
       "News, Search and Messaging                         52"
      ]
     },
     "execution_count": 24,
     "metadata": {},
     "output_type": "execute_result"
    }
   ],
   "source": [
    "# Top 3 sectors for D3\n",
    "country_3=D3.groupby('main_sector').agg({'total_number':'max'}).sort_values('total_number',ascending=False).head(3)\n",
    "country_3"
   ]
  },
  {
   "cell_type": "markdown",
   "metadata": {},
   "source": [
    "For point 3 (top sector count-wise) for D1,D2 and D3 frame, which company received the highest investment?"
   ]
  },
  {
   "cell_type": "code",
   "execution_count": 25,
   "metadata": {},
   "outputs": [
    {
     "name": "stdout",
     "output_type": "stream",
     "text": [
      "Top Sector (count wise), received highest investment in D1:\n",
      "              raised_amount_usd\n",
      "name                          \n",
      "Virtustream      64,300,000.00\n",
      "\n",
      " Top Sector (count wise) ,received highest investment in D2:\n",
      "                 raised_amount_usd\n",
      "name                             \n",
      "Electric Cloud      37,000,000.00\n",
      "\n",
      " Top Sector (count wise), received highest investment in D3:\n",
      "               raised_amount_usd\n",
      "name                           \n",
      "FirstCry.com      39,000,000.00\n"
     ]
    }
   ],
   "source": [
    "print(\"Top Sector (count wise), received highest investment in D1:\\n \" + \\\n",
    "      str(D1.loc[D1['main_sector']=='Others',['name','raised_amount_usd']]\\\n",
    "     .groupby('name').agg({'raised_amount_usd':'sum'}).sort_values('raised_amount_usd',ascending=False).head(1)))\n",
    "\n",
    "print(\"\\n Top Sector (count wise) ,received highest investment in D2:\\n \" + \\\n",
    "      str(D2.loc[D2['main_sector']=='Others',['name','raised_amount_usd']]\\\n",
    "     .groupby('name').agg({'raised_amount_usd':'sum'}).sort_values('raised_amount_usd',ascending=False).head(1)))\n",
    "\n",
    "print(\"\\n Top Sector (count wise), received highest investment in D3:\\n \" + \\\n",
    "      str(D3.loc[D3['main_sector']=='Others',['name','raised_amount_usd']]\\\n",
    "     .groupby('name').agg({'raised_amount_usd':'sum'}).sort_values('raised_amount_usd',ascending=False).head(1)))"
   ]
  },
  {
   "cell_type": "markdown",
   "metadata": {},
   "source": [
    "For point 3 (second top sector count-wise) for D1,D2 and D3 frame, which company received the highest investment?"
   ]
  },
  {
   "cell_type": "code",
   "execution_count": 26,
   "metadata": {
    "scrolled": true
   },
   "outputs": [
    {
     "name": "stdout",
     "output_type": "stream",
     "text": [
      "Second Top Sector (count wise), received highest investment in D1:\n",
      "\n",
      "                                  raised_amount_usd\n",
      "name                                              \n",
      "SST Inc. (Formerly ShotSpotter)      67,933,006.00\n",
      "\n",
      " Second Top Sector (count wise) ,received highest investment in D2:\n",
      "\n",
      "                        raised_amount_usd\n",
      "name                                    \n",
      "Celltick Technologies      37,500,000.00\n",
      "\n",
      " Second Top Sector (count wise), received highest investment in D3:\n",
      "\n",
      "                  raised_amount_usd\n",
      "name                              \n",
      "Manthan Systems      50,700,000.00\n"
     ]
    }
   ],
   "source": [
    "print(\"Second Top Sector (count wise), received highest investment in D1:\\n\\n \" + \\\n",
    "      str(D1.loc[D1['main_sector']=='Social, Finance, Analytics, Advertising',['name','raised_amount_usd']]\\\n",
    "     .groupby('name').agg({'raised_amount_usd':'sum'}).sort_values('raised_amount_usd',ascending=False).head(1)))\n",
    "\n",
    "print(\"\\n Second Top Sector (count wise) ,received highest investment in D2:\\n\\n \" + \\\n",
    "      str(D2.loc[D2['main_sector']=='Social, Finance, Analytics, Advertising',['name','raised_amount_usd']]\\\n",
    "     .groupby('name').agg({'raised_amount_usd':'sum'}).sort_values('raised_amount_usd',ascending=False).head(1)))\n",
    "\n",
    "print(\"\\n Second Top Sector (count wise), received highest investment in D3:\\n\\n \" + \\\n",
    "      str(D3.loc[D3['main_sector']=='Social, Finance, Analytics, Advertising',['name','raised_amount_usd']]\\\n",
    "     .groupby('name').agg({'raised_amount_usd':'sum'}).sort_values('raised_amount_usd',ascending=False).head(1)))"
   ]
  },
  {
   "cell_type": "markdown",
   "metadata": {},
   "source": [
    "## <font color=blue> PLOT 1: </font>\n",
    "Total investments (globally) in venture, seed, and private equity, and the average amount of investment in each funding type"
   ]
  },
  {
   "cell_type": "code",
   "execution_count": 27,
   "metadata": {},
   "outputs": [],
   "source": [
    "#rep_value[rep_value['funding_round_type'].isin(['venture','angel','private_equity','seed'])]\n",
    "Total_invest=master_frame.groupby('funding_round_type').agg({'raised_amount_usd':'sum'})\n",
    "Total_invest.reset_index(inplace=True)\n",
    "\n",
    "Total_invest=(Total_invest[Total_invest.funding_round_type.isin(['venture','angel','private_equity','seed'])])\n",
    "inves=master_frame['raised_amount_usd'].sum()\n",
    "Total_invest['Percentage_investment']=100*(Total_invest['raised_amount_usd']/inves)\n",
    "Total_invest.drop('raised_amount_usd',axis=1,inplace=True)\n",
    "Total_invest.rename(columns={'Average_amount':'Average_investment'})\n",
    "#rep_value.columns\n",
    "Total_invest=Total_invest.merge(rep_value,left_on='funding_round_type',right_on='funding_round_type',how='inner')\n",
    "\n",
    "pt.figure(figsize=(15,5))\n",
    "pt.subplot(1, 2, 1)\n",
    "pt.pie(x=Total_invest['Percentage_investment'],labels=Total_invest['funding_round_type'])\n",
    "pt.title('Fraction of total investments (globally) in in each Funding type')\n",
    "#pt.legend()\n",
    "pt.subplot(1, 2,2)\n",
    "pt.bar(x=Total_invest['funding_round_type'],height=Total_invest['Average_Amount'])\n",
    "pt.title('Average amount of investment in each funding type')\n",
    "pt.show()\n",
    "#Total_invest\n",
    "#ax.legend(bbox_to_anchor=(1.2, 0.5))\n",
    "\n",
    "## <font color=blue> PLOT 2: </font>\n",
    "\n",
    "A plot showing the top 9 countries against the total amount of investments of funding type FT. \n",
    "\n",
    "top9['%']=(100*top9.raised_amount_usd/top9.raised_amount_usd.sum())\n",
    "top9\n",
    "pt.figure(figsize=(15,5))\n",
    "pt.subplot(1, 2, 1)\n",
    "pt.bar(x=top9.reset_index()['country_code'],height=top9['%'])\n",
    "pt.title('Top 9 country as per Investment')\n",
    "#pt.legend()\n",
    "pt.subplot(1, 2,2)\n",
    "pt.bar(x=top_english_countries['COUNTRY'],height=top_english_countries['raised_amount_usd'])\n",
    "pt.title('Top 3 English speaking countries')\n",
    "\n",
    "## <font color=blue> PLOT 3: </font>\n",
    "A plot showing the number of investments in the top 3 sectors of the top 3 countries on one chart (for the chosen investment type FT). \n",
    "\n",
    "\n",
    "result=pd.concat([country_1.T,country_2.T,country_3.T],keys=['USA','GBR','INR'],sort=False).reset_index(level=1).drop(columns='level_1')\n",
    "result.plot.bar(figsize=(8,6),legend='reverse',rot=0,title='Top 3 sectors of Top 3 Countries')\n",
    "pt.show()"
   ]
  }
 ],
 "metadata": {
  "kernelspec": {
   "display_name": "Python 3",
   "language": "python",
   "name": "python3"
  },
  "language_info": {
   "codemirror_mode": {
    "name": "ipython",
    "version": 3
   },
   "file_extension": ".py",
   "mimetype": "text/x-python",
   "name": "python",
   "nbconvert_exporter": "python",
   "pygments_lexer": "ipython3",
   "version": "3.7.0"
  }
 },
 "nbformat": 4,
 "nbformat_minor": 2
}
